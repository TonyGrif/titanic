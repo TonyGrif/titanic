{
 "cells": [
  {
   "cell_type": "code",
   "execution_count": 1,
   "id": "cdd86155-6557-43e9-af60-380c081fa4ab",
   "metadata": {},
   "outputs": [],
   "source": [
    "import pandas as pd"
   ]
  },
  {
   "cell_type": "markdown",
   "id": "4a144feb-1206-4bc9-8c77-0860db7f3dcf",
   "metadata": {},
   "source": [
    "# EDA"
   ]
  },
  {
   "cell_type": "code",
   "execution_count": 2,
   "id": "63f91dec-7128-4f60-91a7-4264e81030b1",
   "metadata": {},
   "outputs": [],
   "source": [
    "df = pd.read_csv(\"dataset/train.csv\")"
   ]
  },
  {
   "cell_type": "code",
   "execution_count": 3,
   "id": "358d8388-04a3-412f-9016-194cdb880459",
   "metadata": {},
   "outputs": [
    {
     "name": "stdout",
     "output_type": "stream",
     "text": [
      "<class 'pandas.core.frame.DataFrame'>\n",
      "RangeIndex: 891 entries, 0 to 890\n",
      "Data columns (total 12 columns):\n",
      " #   Column       Non-Null Count  Dtype  \n",
      "---  ------       --------------  -----  \n",
      " 0   PassengerId  891 non-null    int64  \n",
      " 1   Survived     891 non-null    int64  \n",
      " 2   Pclass       891 non-null    int64  \n",
      " 3   Name         891 non-null    object \n",
      " 4   Sex          891 non-null    object \n",
      " 5   Age          714 non-null    float64\n",
      " 6   SibSp        891 non-null    int64  \n",
      " 7   Parch        891 non-null    int64  \n",
      " 8   Ticket       891 non-null    object \n",
      " 9   Fare         891 non-null    float64\n",
      " 10  Cabin        204 non-null    object \n",
      " 11  Embarked     889 non-null    object \n",
      "dtypes: float64(2), int64(5), object(5)\n",
      "memory usage: 83.7+ KB\n",
      "None \n",
      "\n",
      "     PassengerId  Survived  Pclass  \\\n",
      "505          506         0       1   \n",
      "888          889         0       3   \n",
      "631          632         0       3   \n",
      "457          458         1       1   \n",
      "435          436         1       1   \n",
      "\n",
      "                                           Name     Sex   Age  SibSp  Parch  \\\n",
      "505  Penasco y Castellana, Mr. Victor de Satode    male  18.0      1      0   \n",
      "888    Johnston, Miss. Catherine Helen \"Carrie\"  female   NaN      1      2   \n",
      "631                 Lundahl, Mr. Johan Svensson    male  51.0      0      0   \n",
      "457           Kenyon, Mrs. Frederick R (Marion)  female   NaN      1      0   \n",
      "435                   Carter, Miss. Lucile Polk  female  14.0      1      2   \n",
      "\n",
      "         Ticket      Fare    Cabin Embarked  \n",
      "505    PC 17758  108.9000      C65        C  \n",
      "888  W./C. 6607   23.4500      NaN        S  \n",
      "631      347743    7.0542      NaN        S  \n",
      "457       17464   51.8625      D21        S  \n",
      "435      113760  120.0000  B96 B98        S   \n",
      "\n",
      "       PassengerId    Survived      Pclass         Age       SibSp  \\\n",
      "count   891.000000  891.000000  891.000000  714.000000  891.000000   \n",
      "mean    446.000000    0.383838    2.308642   29.699118    0.523008   \n",
      "std     257.353842    0.486592    0.836071   14.526497    1.102743   \n",
      "min       1.000000    0.000000    1.000000    0.420000    0.000000   \n",
      "25%     223.500000    0.000000    2.000000   20.125000    0.000000   \n",
      "50%     446.000000    0.000000    3.000000   28.000000    0.000000   \n",
      "75%     668.500000    1.000000    3.000000   38.000000    1.000000   \n",
      "max     891.000000    1.000000    3.000000   80.000000    8.000000   \n",
      "\n",
      "            Parch        Fare  \n",
      "count  891.000000  891.000000  \n",
      "mean     0.381594   32.204208  \n",
      "std      0.806057   49.693429  \n",
      "min      0.000000    0.000000  \n",
      "25%      0.000000    7.910400  \n",
      "50%      0.000000   14.454200  \n",
      "75%      0.000000   31.000000  \n",
      "max      6.000000  512.329200  \n"
     ]
    }
   ],
   "source": [
    "print(df.info(),\"\\n\")\n",
    "print(df.sample(5),\"\\n\")\n",
    "print(df.describe())"
   ]
  },
  {
   "cell_type": "code",
   "execution_count": 4,
   "id": "2d0b7963-7ae3-44e7-ab9c-3d444f40f788",
   "metadata": {},
   "outputs": [
    {
     "name": "stdout",
     "output_type": "stream",
     "text": [
      "PassengerId      0\n",
      "Survived         0\n",
      "Pclass           0\n",
      "Name             0\n",
      "Sex              0\n",
      "Age            177\n",
      "SibSp            0\n",
      "Parch            0\n",
      "Ticket           0\n",
      "Fare             0\n",
      "Cabin          687\n",
      "Embarked         2\n",
      "dtype: int64\n"
     ]
    }
   ],
   "source": [
    "print(df.isnull().sum())"
   ]
  },
  {
   "cell_type": "code",
   "execution_count": 39,
   "id": "8302e2e5-3e35-461c-960e-ccb11f83a7a2",
   "metadata": {},
   "outputs": [
    {
     "name": "stdout",
     "output_type": "stream",
     "text": [
      "\n",
      "Upper Class Survival Percent: 0.6296296296296297\n",
      "Middle Class Survival Percent: 0.47282608695652173\n",
      "Lower Class Survival Percent: 0.24236252545824846\n",
      "\n"
     ]
    }
   ],
   "source": [
    "totals = df.groupby(\"Pclass\").size()\n",
    "vals = df.groupby(\"Pclass\")[\"Survived\"].value_counts().to_dict()\n",
    "\n",
    "print(f\"\"\"\n",
    "Upper Class Survival Percent: {vals[(1,1)] / totals.iloc[0]}\n",
    "Middle Class Survival Percent: {vals[(2,1)] / totals.iloc[1]}\n",
    "Lower Class Survival Percent: {vals[(3,1)] / totals.iloc[2]}\n",
    "\"\"\")"
   ]
  },
  {
   "cell_type": "code",
   "execution_count": 42,
   "id": "62b02ba6-e46e-4f82-b1b7-530292671a02",
   "metadata": {},
   "outputs": [
    {
     "name": "stdout",
     "output_type": "stream",
     "text": [
      "\n",
      "Male Survival Percent: 0.18890814558058924\n",
      "Female Survival Percent: 0.7420382165605095\n",
      "\n"
     ]
    }
   ],
   "source": [
    "totals = df.groupby(\"Sex\").size()\n",
    "vals = df.groupby(\"Sex\")[\"Survived\"].value_counts().to_dict()\n",
    "\n",
    "print(f\"\"\"\n",
    "Male Survival Percent: {vals[(\"male\",1)] / totals.iloc[1]}\n",
    "Female Survival Percent: {vals[(\"female\",1)] / totals.iloc[0]}\n",
    "\"\"\")"
   ]
  },
  {
   "cell_type": "code",
   "execution_count": null,
   "id": "2cf7af07-edf9-4f06-a5ab-9056c5aad0a9",
   "metadata": {},
   "outputs": [],
   "source": []
  }
 ],
 "metadata": {
  "kernelspec": {
   "display_name": "Python 3 (ipykernel)",
   "language": "python",
   "name": "python3"
  },
  "language_info": {
   "codemirror_mode": {
    "name": "ipython",
    "version": 3
   },
   "file_extension": ".py",
   "mimetype": "text/x-python",
   "name": "python",
   "nbconvert_exporter": "python",
   "pygments_lexer": "ipython3",
   "version": "3.12.10"
  }
 },
 "nbformat": 4,
 "nbformat_minor": 5
}
